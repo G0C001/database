{
 "cells": [
  {
   "cell_type": "code",
   "execution_count": 41,
   "metadata": {},
   "outputs": [
    {
     "data": {
      "text/html": [
       "<div>\n",
       "<style scoped>\n",
       "    .dataframe tbody tr th:only-of-type {\n",
       "        vertical-align: middle;\n",
       "    }\n",
       "\n",
       "    .dataframe tbody tr th {\n",
       "        vertical-align: top;\n",
       "    }\n",
       "\n",
       "    .dataframe thead th {\n",
       "        text-align: right;\n",
       "    }\n",
       "</style>\n",
       "<table border=\"1\" class=\"dataframe\">\n",
       "  <thead>\n",
       "    <tr style=\"text-align: right;\">\n",
       "      <th></th>\n",
       "      <th>name</th>\n",
       "      <th>age</th>\n",
       "      <th>place</th>\n",
       "    </tr>\n",
       "  </thead>\n",
       "  <tbody>\n",
       "    <tr>\n",
       "      <th>0</th>\n",
       "      <td>gh</td>\n",
       "      <td>g</td>\n",
       "      <td>g</td>\n",
       "    </tr>\n",
       "  </tbody>\n",
       "</table>\n",
       "</div>"
      ],
      "text/plain": [
       "  name age place\n",
       "0   gh   g     g"
      ]
     },
     "execution_count": 41,
     "metadata": {},
     "output_type": "execute_result"
    }
   ],
   "source": [
    "# import gspread\n",
    "# from oauth2client.service_account import ServiceAccountCredentials\n",
    "# import pandas as pd\n",
    "# def gs_sheet_to_dataframe():\n",
    "#     CREDENTIALS_FILE = './credentials/credentials.json'\n",
    "#     scope = [\n",
    "#         \"https://spreadsheets.google.com/feeds\",\n",
    "#         \"https://www.googleapis.com/auth/spreadsheets\",\n",
    "#         \"https://www.googleapis.com/auth/drive\"\n",
    "#     ]\n",
    "#     creds = ServiceAccountCredentials.from_json_keyfile_name(CREDENTIALS_FILE, scope)\n",
    "#     client = gspread.authorize(creds)\n",
    "#     SPREADSHEET_URL = \"https://docs.google.com/spreadsheets/d/173lL9zhGBFuHXVFmhwPXXNhiDFrytL4w1eN2Ux7KX6g/edit#gid=0\"\n",
    "#     worksheet = client.open_by_url(SPREADSHEET_URL).worksheet('sample')\n",
    "#     data = worksheet.get_all_records()\n",
    "#     df = pd.DataFrame(data)\n",
    "#     return df\n",
    "# df = gs_sheet_to_dataframe()\n",
    "# df"
   ]
  },
  {
   "cell_type": "code",
   "execution_count": 4,
   "metadata": {},
   "outputs": [],
   "source": [
    "import sqlite3\n",
    "\n",
    "def db_query(query):\n",
    "    conn = sqlite3.connect('example.db')\n",
    "    cursor = conn.cursor()\n",
    "    cursor.execute(query)\n",
    "    conn.commit()\n",
    "    cursor.fetchone()\n",
    "    conn.close()\n",
    "    return\n",
    "db_query(\"\"\"CREATE TABLE IF NOT EXISTS people2 (\n",
    "            id INTEGER PRIMARY KEY,\n",
    "            name TEXT NOT NULL,\n",
    "            age INTEGER)\n",
    "        \"\"\")"
   ]
  },
  {
   "cell_type": "code",
   "execution_count": null,
   "metadata": {},
   "outputs": [],
   "source": []
  },
  {
   "cell_type": "code",
   "execution_count": null,
   "metadata": {},
   "outputs": [],
   "source": []
  },
  {
   "cell_type": "code",
   "execution_count": 131,
   "metadata": {},
   "outputs": [
    {
     "name": "stdout",
     "output_type": "stream",
     "text": [
      "hai\n"
     ]
    }
   ],
   "source": [
    "spreadsheet = gs_sheet()\n",
    "account_column = spreadsheet.col_values(1)[1:]\n",
    "import json\n",
    "Account_details_from_db = json.loads(account_column[0].strip())\n",
    "EMAIL = \"john@example.com\"\n",
    "PHONE = '7598285144'\n",
    "for i in Account_details_from_db:\n",
    "        if i['email'] == EMAIL and i['phone'] == PHONE:\n",
    "            print('hai')"
   ]
  },
  {
   "cell_type": "code",
   "execution_count": 128,
   "metadata": {},
   "outputs": [
    {
     "name": "stdout",
     "output_type": "stream",
     "text": [
      "account already exist\n"
     ]
    }
   ],
   "source": [
    "import json\n",
    "account_column = spreadsheet.col_values(1)[1:]\n",
    "Account_details_from_db = json.loads(account_column[0].strip())\n",
    "new_contact = {\n",
    "        \"name\": \"Gokul\",\n",
    "        \"email\": \"doe@example.com\",\n",
    "        \"phone\": \"99448755792\"\n",
    "}\n",
    "if new_contact not in Account_details_from_db:\n",
    "        Account_details_from_db.append(new_contact)\n",
    "        json_string = json.dumps(Account_details_from_db, indent=4)\n",
    "        spreadsheet.update_cell(2, 1, json_string)\n",
    "else:\n",
    "        print('account already exist')"
   ]
  },
  {
   "cell_type": "code",
   "execution_count": null,
   "metadata": {},
   "outputs": [],
   "source": []
  }
 ],
 "metadata": {
  "kernelspec": {
   "display_name": "Python 3",
   "language": "python",
   "name": "python3"
  },
  "language_info": {
   "codemirror_mode": {
    "name": "ipython",
    "version": 3
   },
   "file_extension": ".py",
   "mimetype": "text/x-python",
   "name": "python",
   "nbconvert_exporter": "python",
   "pygments_lexer": "ipython3",
   "version": "3.12.2"
  }
 },
 "nbformat": 4,
 "nbformat_minor": 2
}
